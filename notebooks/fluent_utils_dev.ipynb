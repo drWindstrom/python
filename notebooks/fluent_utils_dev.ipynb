{
 "cells": [
  {
   "cell_type": "code",
   "execution_count": 45,
   "metadata": {
    "collapsed": true
   },
   "outputs": [],
   "source": [
    "import sys\n",
    "sys.path.append('/home/winstroth/src/python/fluent/fluent')"
   ]
  },
  {
   "cell_type": "code",
   "execution_count": 56,
   "metadata": {
    "collapsed": false
   },
   "outputs": [
    {
     "data": {
      "text/plain": [
       "<module 'fluutils' from '/home/winstroth/src/python/fluent/fluent/fluutils.pyc'>"
      ]
     },
     "execution_count": 56,
     "metadata": {},
     "output_type": "execute_result"
    }
   ],
   "source": [
    "import pandas as pd\n",
    "import fluutils as futils\n",
    "reload(futils)"
   ]
  },
  {
   "cell_type": "code",
   "execution_count": 57,
   "metadata": {
    "collapsed": false
   },
   "outputs": [
    {
     "name": "stdout",
     "output_type": "stream",
     "text": [
      "/home/winstroth/src/python/fluent/test_files\n"
     ]
    }
   ],
   "source": [
    "cd /home/winstroth/src/python/fluent/test_files/"
   ]
  },
  {
   "cell_type": "code",
   "execution_count": 89,
   "metadata": {
    "collapsed": false
   },
   "outputs": [],
   "source": [
    "top_dir = 'finished/converged' \n",
    "exts = {'cl': '*.cl', 'cd': '*.cd', 'cm': '*.cm'}\n",
    "\n",
    "fpolars = {}\n",
    "for ext_name, ext_pattern in exts.iteritems():\n",
    "    fpolars[ext_name] = (futils.find_files(top_dir, ext_pattern))\n",
    "\n",
    "polars_df = {}\n",
    "for ext_name, cur_polar in fpolars.iteritems():\n",
    "    polars = {}\n",
    "    for faoa in cur_polar:\n",
    "        fname_parts, aoa = futils.split_fname(faoa[0])\n",
    "        coeff_val, coeff_hist = futils.get_coeff(faoa[1])\n",
    "        polar_name = '{}_{}'.format(fname_parts['nairfoil'],\n",
    "                                    fname_parts['nsetup'])\n",
    "        if polar_name not in polars:\n",
    "            polars[polar_name] = []\n",
    "        polars[polar_name].append([aoa, coeff_val])\n",
    "    # Convert to pandas Dataframe\n",
    "    for key, value in polars.iteritems():\n",
    "        if key not in polars_df:\n",
    "            polars_df[key] = {}\n",
    "        polars_df[key][ext_name] = pd.DataFrame(data=value, columns=['aoa', ext_name])\n",
    "        # Order by aoa\n",
    "        polars_df[key][ext_name].sort_values('aoa', inplace=True, ascending=True)\n",
    "res_df = {}\n",
    "for name, polar_dict in polars_df.iteritems():\n",
    "    for  \n",
    "    res_df[polar_name] = \n",
    "    \n"
   ]
  },
  {
   "cell_type": "code",
   "execution_count": 109,
   "metadata": {
    "collapsed": false
   },
   "outputs": [
    {
     "data": {
      "text/plain": [
       "1   -0.014342\n",
       "2    0.222130\n",
       "5    0.455772\n",
       "0    0.684525\n",
       "4    0.905283\n",
       "6    1.113960\n",
       "3    1.211890\n",
       "Name: cl, dtype: float64"
      ]
     },
     "execution_count": 109,
     "metadata": {},
     "output_type": "execute_result"
    }
   ],
   "source": [
    "polars_df['e44r19600_sst']['cl']['cl']"
   ]
  },
  {
   "cell_type": "code",
   "execution_count": 107,
   "metadata": {
    "collapsed": false
   },
   "outputs": [
    {
     "data": {
      "text/html": [
       "<div>\n",
       "<table border=\"1\" class=\"dataframe\">\n",
       "  <thead>\n",
       "    <tr style=\"text-align: right;\">\n",
       "      <th></th>\n",
       "      <th>aoa</th>\n",
       "      <th>cl</th>\n",
       "      <th>test</th>\n",
       "    </tr>\n",
       "  </thead>\n",
       "  <tbody>\n",
       "    <tr>\n",
       "      <th>1</th>\n",
       "      <td>-4</td>\n",
       "      <td>-0.014342</td>\n",
       "      <td>1</td>\n",
       "    </tr>\n",
       "    <tr>\n",
       "      <th>2</th>\n",
       "      <td>-2</td>\n",
       "      <td>0.222130</td>\n",
       "      <td>2</td>\n",
       "    </tr>\n",
       "    <tr>\n",
       "      <th>5</th>\n",
       "      <td>0</td>\n",
       "      <td>0.455772</td>\n",
       "      <td>3</td>\n",
       "    </tr>\n",
       "    <tr>\n",
       "      <th>0</th>\n",
       "      <td>2</td>\n",
       "      <td>0.684525</td>\n",
       "      <td>4</td>\n",
       "    </tr>\n",
       "    <tr>\n",
       "      <th>4</th>\n",
       "      <td>4</td>\n",
       "      <td>0.905283</td>\n",
       "      <td>5</td>\n",
       "    </tr>\n",
       "    <tr>\n",
       "      <th>6</th>\n",
       "      <td>6</td>\n",
       "      <td>1.113960</td>\n",
       "      <td>6</td>\n",
       "    </tr>\n",
       "    <tr>\n",
       "      <th>3</th>\n",
       "      <td>7</td>\n",
       "      <td>1.211890</td>\n",
       "      <td>7</td>\n",
       "    </tr>\n",
       "  </tbody>\n",
       "</table>\n",
       "</div>"
      ],
      "text/plain": [
       "   aoa        cl  test\n",
       "1   -4 -0.014342     1\n",
       "2   -2  0.222130     2\n",
       "5    0  0.455772     3\n",
       "0    2  0.684525     4\n",
       "4    4  0.905283     5\n",
       "6    6  1.113960     6\n",
       "3    7  1.211890     7"
      ]
     },
     "execution_count": 107,
     "metadata": {},
     "output_type": "execute_result"
    }
   ],
   "source": [
    "res"
   ]
  },
  {
   "cell_type": "code",
   "execution_count": 99,
   "metadata": {
    "collapsed": true
   },
   "outputs": [],
   "source": [
    "test_df['aoa'] = polars_df['e44r19600_sst']['cl'].aoa"
   ]
  },
  {
   "cell_type": "code",
   "execution_count": 101,
   "metadata": {
    "collapsed": false
   },
   "outputs": [],
   "source": [
    "test_df['cl'] = polars_df['e44r19600_sst']['cl'].cl"
   ]
  },
  {
   "cell_type": "code",
   "execution_count": 102,
   "metadata": {
    "collapsed": false
   },
   "outputs": [
    {
     "data": {
      "text/html": [
       "<div>\n",
       "<table border=\"1\" class=\"dataframe\">\n",
       "  <thead>\n",
       "    <tr style=\"text-align: right;\">\n",
       "      <th></th>\n",
       "      <th>aoa</th>\n",
       "      <th>cl</th>\n",
       "    </tr>\n",
       "  </thead>\n",
       "  <tbody>\n",
       "    <tr>\n",
       "      <th>1</th>\n",
       "      <td>-4</td>\n",
       "      <td>-0.014342</td>\n",
       "    </tr>\n",
       "    <tr>\n",
       "      <th>2</th>\n",
       "      <td>-2</td>\n",
       "      <td>0.222130</td>\n",
       "    </tr>\n",
       "    <tr>\n",
       "      <th>5</th>\n",
       "      <td>0</td>\n",
       "      <td>0.455772</td>\n",
       "    </tr>\n",
       "    <tr>\n",
       "      <th>0</th>\n",
       "      <td>2</td>\n",
       "      <td>0.684525</td>\n",
       "    </tr>\n",
       "    <tr>\n",
       "      <th>4</th>\n",
       "      <td>4</td>\n",
       "      <td>0.905283</td>\n",
       "    </tr>\n",
       "    <tr>\n",
       "      <th>6</th>\n",
       "      <td>6</td>\n",
       "      <td>1.113960</td>\n",
       "    </tr>\n",
       "    <tr>\n",
       "      <th>3</th>\n",
       "      <td>7</td>\n",
       "      <td>1.211890</td>\n",
       "    </tr>\n",
       "  </tbody>\n",
       "</table>\n",
       "</div>"
      ],
      "text/plain": [
       "   aoa        cl\n",
       "1   -4 -0.014342\n",
       "2   -2  0.222130\n",
       "5    0  0.455772\n",
       "0    2  0.684525\n",
       "4    4  0.905283\n",
       "6    6  1.113960\n",
       "3    7  1.211890"
      ]
     },
     "execution_count": 102,
     "metadata": {},
     "output_type": "execute_result"
    }
   ],
   "source": [
    "test_df"
   ]
  }
 ],
 "metadata": {
  "kernelspec": {
   "display_name": "Python 2",
   "language": "python",
   "name": "python2"
  },
  "language_info": {
   "codemirror_mode": {
    "name": "ipython",
    "version": 2
   },
   "file_extension": ".py",
   "mimetype": "text/x-python",
   "name": "python",
   "nbconvert_exporter": "python",
   "pygments_lexer": "ipython2",
   "version": "2.7.11"
  }
 },
 "nbformat": 4,
 "nbformat_minor": 0
}
